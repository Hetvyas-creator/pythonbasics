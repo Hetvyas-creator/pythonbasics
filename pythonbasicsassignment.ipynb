{
  "nbformat": 4,
  "nbformat_minor": 0,
  "metadata": {
    "colab": {
      "provenance": []
    },
    "kernelspec": {
      "name": "python3",
      "display_name": "Python 3"
    },
    "language_info": {
      "name": "python"
    }
  },
  "cells": [
    {
      "cell_type": "code",
      "execution_count": null,
      "metadata": {
        "id": "KdOvUOwBoV2b"
      },
      "outputs": [],
      "source": []
    },
    {
      "cell_type": "markdown",
      "source": [
        "# THEORY QUESTIONS\n"
      ],
      "metadata": {
        "id": "X6PJzxvfoYAQ"
      }
    },
    {
      "cell_type": "markdown",
      "source": [
        "Q1 What is Python, and why is it popular ?\n",
        "   - Python is a widely used programming language. it is popular because\n",
        "   it is easy to learn and understand. it has many libraries and frameworks and also has a large community of users.\n",
        "\n",
        "\n",
        "Q2 What is an interpreter in Python ?\n",
        "  - interpreter in python reads and executes the code. it converts program statement into machine code.\n",
        "\n",
        "Q3 What are pre-defined keywords in Python ?\n",
        "  - predefined keywords in python are reserved words that that have specific meaning and cannot be used as any other type of identifiers.\n",
        "\n",
        "Q4 Can keywords be used as variable names ?\n",
        "  - no\n",
        "\n",
        "Q5  What is mutability in Python ?\n",
        "  - mutable means an object can be changed after its creation. for example lists list can be modifed after its creation.\n",
        "\n",
        "Q6  Why are lists mutable, but tuples are immutable ?\n",
        "   -  lists are mutable because they allow modification afer creation and tuples are immutable because they are intended to use for fixed collection or items that should not be altered.\n",
        "\n",
        "Q7  What is the difference between “==” and “is” operators in Python ?\n",
        "   - both are used for comparison\n",
        "   (==) equality operator\n",
        "   ( is ) identity operator\n",
        "\n",
        "   equality operator compares the values of two objects. It returns True if the values are equal, and False otherwise\n",
        "\n",
        "   identity operator checks if the two variable refers to same objectin memory.It returns True if they point to the same object, and False\n",
        "\n",
        "Q8 What are logical operators in Python ?\n",
        "   - logical operators in python are used to combine or modify conditonal statements that evaluate true or false.\n",
        "   for example AND,OR,NOT\n",
        "\n",
        "Q9 What is type casting in Python ?\n",
        "   - Type casting in Python is the process of changing a variable's data type from one type to another.\n",
        "\n",
        "Q10 What is the difference between implicit and explicit type casting ?\n",
        "   - Python handles this conversion, without we needing to write any special code\n",
        "   - while in explicit we need to use built in functions to force one data type to another.\n",
        "\n",
        "Q11 What is the purpose of conditional statements in Python ?\n",
        "  -  the purpose of conditional statements in pyton is it allow us to make decisions based on whether a certain condition is true or false\n",
        "\n",
        "Q12 How does the elif statement work ?\n",
        "  - else if statement in python is used to check multiple conditons.\n",
        "  first if condition will be checked then elif conditon will be checked if none of these is true then else will be executed\n",
        "\n",
        "Q13 What is the difference between for and while loops ?\n",
        "  - for loop is mainly used for iterating over a sequence and while loop Used for repeating a block of code as long as a certain condition is True.\n",
        "\n",
        "Q14  Describe a scenario where a while loop is more suitable than a for loop?\n",
        "   - while loop is more suitable than a for loop when we don't know in advance how many times you need to repeat a block of code. a scenario can bw we're playing a game where we have to keep rolling a die until you get a 6.  You don't know how many rolls it will take.\n",
        "   "
      ],
      "metadata": {
        "id": "nuDkMrLPooql"
      }
    },
    {
      "cell_type": "markdown",
      "source": [
        "# PRACTICAL QUESTIONS"
      ],
      "metadata": {
        "id": "X_-z8A0n1R1b"
      }
    },
    {
      "cell_type": "markdown",
      "source": [],
      "metadata": {
        "id": "P8Pbmnsa1aVy"
      }
    },
    {
      "cell_type": "code",
      "source": [
        "#1Write a Python program to print \"Hello, World!\n",
        "\n",
        "\n",
        "print(\"helloworld\")\n"
      ],
      "metadata": {
        "colab": {
          "base_uri": "https://localhost:8080/"
        },
        "id": "BDYX3fKC2oj3",
        "outputId": "cf0129ee-76c2-4841-b4eb-ac40f2e77917"
      },
      "execution_count": 9,
      "outputs": [
        {
          "output_type": "stream",
          "name": "stdout",
          "text": [
            "helloworld\n"
          ]
        }
      ]
    },
    {
      "cell_type": "code",
      "source": [
        "#2\n",
        "\n",
        "name=\"het\"\n",
        "age=\"19\"\n",
        "\n",
        "print(\"my name is\",name,\"and i am\",age,\"years old\")"
      ],
      "metadata": {
        "colab": {
          "base_uri": "https://localhost:8080/"
        },
        "id": "kCR_lAZ27YVd",
        "outputId": "e0a17dc1-6151-4525-a0f9-4df7afdeb5b0"
      },
      "execution_count": 3,
      "outputs": [
        {
          "output_type": "stream",
          "name": "stdout",
          "text": [
            "my name is het and i am 19 years old\n"
          ]
        }
      ]
    },
    {
      "cell_type": "code",
      "source": [
        "#3\n",
        "\n",
        "for kw in keyword.kwlist:\n",
        "    print(kw)"
      ],
      "metadata": {
        "colab": {
          "base_uri": "https://localhost:8080/"
        },
        "id": "3JTVus6w71KK",
        "outputId": "c006ee97-d9a0-4f87-f0c8-609617c0d89f"
      },
      "execution_count": 12,
      "outputs": [
        {
          "output_type": "stream",
          "name": "stdout",
          "text": [
            "False\n",
            "None\n",
            "True\n",
            "and\n",
            "as\n",
            "assert\n",
            "async\n",
            "await\n",
            "break\n",
            "class\n",
            "continue\n",
            "def\n",
            "del\n",
            "elif\n",
            "else\n",
            "except\n",
            "finally\n",
            "for\n",
            "from\n",
            "global\n",
            "if\n",
            "import\n",
            "in\n",
            "is\n",
            "lambda\n",
            "nonlocal\n",
            "not\n",
            "or\n",
            "pass\n",
            "raise\n",
            "return\n",
            "try\n",
            "while\n",
            "with\n",
            "yield\n"
          ]
        }
      ]
    },
    {
      "cell_type": "code",
      "source": [
        "#4\n",
        "\n",
        "import keyword\n",
        "\n",
        "s = 'asn'\n",
        "\n",
        "if keyword.iskeyword(s):\n",
        "    print(f\"'{s}' is a Python keyword.\")\n",
        "else:\n",
        "    print(f\"'{s}' is not a Python keyword.\")"
      ],
      "metadata": {
        "colab": {
          "base_uri": "https://localhost:8080/"
        },
        "id": "CLvgK-UW8iII",
        "outputId": "7560b781-98dc-43d9-98c8-a615982b9eb7"
      },
      "execution_count": 14,
      "outputs": [
        {
          "output_type": "stream",
          "name": "stdout",
          "text": [
            "'asn' is not a Python keyword.\n"
          ]
        }
      ]
    },
    {
      "cell_type": "code",
      "source": [
        "#5\n",
        "\n",
        "my_list = [1,5,3,7,8]\n",
        "\n",
        "my_tuple = (1,8,9,4,5)\n",
        "\n",
        "print(\"originalmylist\",my_list)\n",
        "my_list[3] = 56\n",
        "print(\"afterchange\",my_list)\n",
        "\n",
        "print(\"orginaltuple\",my_tuple)\n",
        "\n",
        "try:\n",
        "\n",
        "  my_tuple[4] = 45\n",
        "  print(\"tupleafterchange:\",my_tuple)\n",
        "\n"
      ],
      "metadata": {
        "colab": {
          "base_uri": "https://localhost:8080/",
          "height": 106
        },
        "id": "CWZ0nI8vBpNI",
        "outputId": "86862b05-25a0-4f74-e818-47bb20a7640d"
      },
      "execution_count": 19,
      "outputs": [
        {
          "output_type": "error",
          "ename": "SyntaxError",
          "evalue": "incomplete input (<ipython-input-19-ec8e75f218f4>, line 15)",
          "traceback": [
            "\u001b[0;36m  File \u001b[0;32m\"<ipython-input-19-ec8e75f218f4>\"\u001b[0;36m, line \u001b[0;32m15\u001b[0m\n\u001b[0;31m    \u001b[0m\n\u001b[0m    ^\u001b[0m\n\u001b[0;31mSyntaxError\u001b[0m\u001b[0;31m:\u001b[0m incomplete input\n"
          ]
        }
      ]
    },
    {
      "cell_type": "code",
      "source": [
        "#6\n",
        "\n",
        "def dem_args(immutable, mutable):\n",
        "  immutable +=1\n",
        "  mutable.append(1)\n",
        "\n",
        "immutable_arg = 10\n",
        "mutable_arg = [10]\n",
        "\n",
        "dem_args(immutable_arg,mutable_arg)\n",
        "print(\"Immutable:\", immutable_arg)\n",
        "print(\"Mutable:\", mutable_arg)"
      ],
      "metadata": {
        "colab": {
          "base_uri": "https://localhost:8080/"
        },
        "id": "hJY0TRyaDLFJ",
        "outputId": "affb8b9f-43e6-4586-e85f-be7e8b0c7814"
      },
      "execution_count": 24,
      "outputs": [
        {
          "output_type": "stream",
          "name": "stdout",
          "text": [
            "Immutable: 10\n",
            "Mutable: [10, 1]\n"
          ]
        }
      ]
    },
    {
      "cell_type": "code",
      "source": [],
      "metadata": {
        "colab": {
          "base_uri": "https://localhost:8080/"
        },
        "id": "Fj5HgBdTGcuy",
        "outputId": "673ec4f8-aa8e-45b3-8284-fd241dd01601"
      },
      "execution_count": 23,
      "outputs": [
        {
          "output_type": "stream",
          "name": "stdout",
          "text": [
            "Immutable: 10\n",
            "Mutable: [10, 1]\n"
          ]
        }
      ]
    },
    {
      "cell_type": "code",
      "source": [
        "#7\n",
        "\n",
        "def arithmetic_op(num1, num2):\n",
        "  print(\"sum\",num1 + num2)\n",
        "  print(\"product\", num1-num2)\n",
        "  print(\"difference\", num1*num2)\n",
        "  if num2 !=0:\n",
        "     print(\"quotient\",num1/num2)\n",
        "  else:\n",
        "     print(\"quotient cannot divide\")\n",
        "\n",
        "  num1 = float(input(\"enter number one: \"))\n",
        "  num2 = float(input(\"enter number two: \"))\n",
        "\n",
        "  arithmetic_op(num1, num2)"
      ],
      "metadata": {
        "id": "-07uBujpItBI"
      },
      "execution_count": 31,
      "outputs": []
    },
    {
      "cell_type": "code",
      "source": [
        "#8\n",
        "\n",
        "a = True\n",
        "b = False\n",
        "\n",
        "print(\"a and b:\", a and b)\n",
        "print(\"a or b:\", a or b)\n",
        "print(\"not a:\", not a)"
      ],
      "metadata": {
        "colab": {
          "base_uri": "https://localhost:8080/"
        },
        "id": "xeyLYMIMKT_L",
        "outputId": "c284f581-9b28-464a-f978-e63853bd0c06"
      },
      "execution_count": 1,
      "outputs": [
        {
          "output_type": "stream",
          "name": "stdout",
          "text": [
            "a and b: False\n",
            "a or b: True\n",
            "not a: False\n"
          ]
        }
      ]
    },
    {
      "cell_type": "code",
      "source": [
        "#9\n",
        "\n",
        "user_input = input(\"Enter a value: \")\n",
        "\n",
        "\n",
        "try:\n",
        "    int_value = int(user_input)\n",
        "    print(\"As integer:\", int_value)\n",
        "except ValueError:\n",
        "    print(\"Cannot convert to intege\")\n",
        "\n",
        "try:\n",
        "    float_value = float(user_input)\n",
        "    print(\"As float:\", float_value)\n",
        "except ValueError:\n",
        "    print(\"Cannot convert to float.\")\n",
        "\n",
        "\n",
        "bool_value = bool(user_input)\n",
        "print(\"As boolean:\", bool_value)"
      ],
      "metadata": {
        "colab": {
          "base_uri": "https://localhost:8080/"
        },
        "id": "uzNocSuFKwWr",
        "outputId": "fcb5d345-c1d0-41ea-9240-79b62c1d5942"
      },
      "execution_count": 2,
      "outputs": [
        {
          "output_type": "stream",
          "name": "stdout",
          "text": [
            "Enter a value: 16\n",
            "As integer: 16\n",
            "As float: 16.0\n",
            "As boolean: True\n"
          ]
        }
      ]
    },
    {
      "cell_type": "code",
      "source": [],
      "metadata": {
        "id": "4ToizOOteMB8"
      },
      "execution_count": null,
      "outputs": []
    },
    {
      "cell_type": "code",
      "source": [],
      "metadata": {
        "id": "z9qwdDJieN1m"
      },
      "execution_count": null,
      "outputs": []
    },
    {
      "cell_type": "code",
      "source": [
        "#10\n",
        "mixed_list = [\"10\", \"20.5\", \"True\", \"42\", \"0\"]\n",
        "\n",
        "\n",
        "converted_list = [\n",
        "    int(item) if item.isdigit() else (\n",
        "        float(item) if \".\" in item else (\n",
        "            True if item.lower() == \"true\" else (\n",
        "                False if item.lower() == \"false\" else item\n",
        "            )\n",
        "        )\n",
        "    )\n",
        "    for item in mixed_list\n",
        "]\n",
        "\n",
        "\n",
        "print(\"Original list:\", mixed_list)\n",
        "print(\"Converted list:\", converted_list)"
      ],
      "metadata": {
        "colab": {
          "base_uri": "https://localhost:8080/"
        },
        "id": "wKb9dRcrasHJ",
        "outputId": "390b6d0d-dc0e-4c92-ac78-8fc90c970284"
      },
      "execution_count": 3,
      "outputs": [
        {
          "output_type": "stream",
          "name": "stdout",
          "text": [
            "Original list: ['10', '20.5', 'True', '42', '0']\n",
            "Converted list: [10, 20.5, True, 42, 0]\n"
          ]
        }
      ]
    },
    {
      "cell_type": "code",
      "source": [
        "#11\n",
        "\n",
        "def check_number(number):\n",
        "\n",
        "\n",
        "    if number > 0:\n",
        "        print(number, \"is positive\")\n",
        "    elif number < 0:\n",
        "        print(number, \"is negative\")\n",
        "    else:  # number == 0\n",
        "        print(number, \"is zero\")\n",
        "\n",
        "\n",
        "\n",
        "try:\n",
        "    num = float(input(\"Enter a number: \"))\n",
        "    check_number(num)\n",
        "except ValueError:\n",
        "    print(\"Invalid input. Please enter a valid number.\")\n",
        "\n",
        "\n"
      ],
      "metadata": {
        "colab": {
          "base_uri": "https://localhost:8080/"
        },
        "id": "w_ufiDgBeO6Q",
        "outputId": "da29a3e2-af04-42a5-becd-d0e1df8ddda4"
      },
      "execution_count": 4,
      "outputs": [
        {
          "output_type": "stream",
          "name": "stdout",
          "text": [
            "Enter a number: 5\n",
            "5.0 is positive\n"
          ]
        }
      ]
    },
    {
      "cell_type": "code",
      "source": [
        "#12\n",
        "\n",
        "for i in range(1, 11):\n",
        "    print(i)"
      ],
      "metadata": {
        "colab": {
          "base_uri": "https://localhost:8080/"
        },
        "id": "UB-d-vSSeYm4",
        "outputId": "9b3ba4df-c81e-4e20-e78e-1486534507c1"
      },
      "execution_count": 5,
      "outputs": [
        {
          "output_type": "stream",
          "name": "stdout",
          "text": [
            "1\n",
            "2\n",
            "3\n",
            "4\n",
            "5\n",
            "6\n",
            "7\n",
            "8\n",
            "9\n",
            "10\n"
          ]
        }
      ]
    },
    {
      "cell_type": "code",
      "source": [
        "#13\n",
        "\n",
        "sum_of_evens = sum(range(2, 51, 2))\n",
        "\n",
        "print(sum_of_evens)"
      ],
      "metadata": {
        "colab": {
          "base_uri": "https://localhost:8080/"
        },
        "id": "OJ9AtkP9erQd",
        "outputId": "137692d7-6c8c-4384-d653-4ed4088dd320"
      },
      "execution_count": 6,
      "outputs": [
        {
          "output_type": "stream",
          "name": "stdout",
          "text": [
            "650\n"
          ]
        }
      ]
    },
    {
      "cell_type": "code",
      "source": [
        "#14\n",
        "\n",
        "def reverse_string(s):\n",
        "    return s[::-1]\n",
        "\n",
        "input_string = input(\"Enter a string: \")\n",
        "reversed_string = reverse_string(input_string)\n",
        "print(\"Ori string:\", input_string)\n",
        "print(\"Reve string:\", reversed_string)"
      ],
      "metadata": {
        "colab": {
          "base_uri": "https://localhost:8080/"
        },
        "id": "alGoUJKQgUik",
        "outputId": "3e90c5d4-4e40-4921-e8ed-ae08c149f4f0"
      },
      "execution_count": 8,
      "outputs": [
        {
          "output_type": "stream",
          "name": "stdout",
          "text": [
            "Enter a string: hetvyas\n",
            "Original string: hetvyas\n",
            "Reversed string: sayvteh\n"
          ]
        }
      ]
    },
    {
      "cell_type": "code",
      "source": [
        "#15\n",
        "\n",
        "def factorial(n):\n",
        "    return 1 if n == 0 else n * factorial(n-1)\n",
        "\n",
        "number = 5\n",
        "result = factorial(number)\n",
        "print(result)"
      ],
      "metadata": {
        "colab": {
          "base_uri": "https://localhost:8080/"
        },
        "id": "pqIxBlEAgU0C",
        "outputId": "a70f6b13-9489-4ff3-d982-974952d77fc6"
      },
      "execution_count": 7,
      "outputs": [
        {
          "output_type": "stream",
          "name": "stdout",
          "text": [
            "120\n"
          ]
        }
      ]
    }
  ]
}